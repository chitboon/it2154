{
  "nbformat": 4,
  "nbformat_minor": 0,
  "metadata": {
    "colab": {
      "name": "T8.ipynb",
      "provenance": [],
      "authorship_tag": "ABX9TyMVTQTwlRR5AOiuGySb/tqV",
      "include_colab_link": true
    },
    "kernelspec": {
      "name": "python3",
      "display_name": "Python 3"
    },
    "language_info": {
      "name": "python"
    }
  },
  "cells": [
    {
      "cell_type": "markdown",
      "metadata": {
        "id": "view-in-github",
        "colab_type": "text"
      },
      "source": [
        "<a href=\"https://colab.research.google.com/github/chitboon/it2154/blob/main/T8.ipynb\" target=\"_parent\"><img src=\"https://colab.research.google.com/assets/colab-badge.svg\" alt=\"Open In Colab\"/></a>"
      ]
    },
    {
      "cell_type": "markdown",
      "source": [
        "1. List the formal arguments and actual arguments of f.\n",
        "2. What is the output if you execute the code fragment?:\n",
        "\n",
        "\n"
      ],
      "metadata": {
        "id": "jdV42lSbEEVh"
      }
    },
    {
      "cell_type": "code",
      "execution_count": null,
      "metadata": {
        "id": "D3dMoOTBAODT"
      },
      "outputs": [],
      "source": [
        "def f(a, b):\n",
        "  if a > b:\n",
        "    return a\n",
        "  else:\n",
        "    return b\n",
        "print(\"f(10,11) = %d\" % f(10,11)) "
      ]
    },
    {
      "cell_type": "markdown",
      "source": [
        "3. Explain how you would write a Python function appear(str1,str2, n) to check whether string str1 appears in string str2 for exactly n times.  For instance appear(\"an\", \"banana\", 2) yields True. And appear(\"sleep\", \"good morning\", 1)\n",
        "yields False."
      ],
      "metadata": {
        "id": "kUO21rG8EIJX"
      }
    },
    {
      "cell_type": "code",
      "source": [
        "#@title\n",
        "def appears(str1, str2, n):\n",
        "  while n>0:\n",
        "    idx = str2.find(str1)\n",
        "    if idx == -1:\n",
        "      return False\n",
        "    else:\n",
        "      str2 = str2[idx+len(str1):]\n",
        "      n = n - 1\n",
        "  return True\n",
        "\n",
        "print(appears(\"an\",\"banana\",2))\n",
        "print(appears(\"sleep\",\"good morning\", 1))"
      ],
      "metadata": {
        "cellView": "form",
        "id": "05ejSOl8Cnfu"
      },
      "execution_count": null,
      "outputs": []
    },
    {
      "cell_type": "code",
      "source": [
        ""
      ],
      "metadata": {
        "id": "ENqjR3EdE4Hg"
      },
      "execution_count": null,
      "outputs": []
    },
    {
      "cell_type": "markdown",
      "source": [
        "4. Name two situations (or examples) in which we should use class instead of dictionary"
      ],
      "metadata": {
        "id": "vVUvLLNxE55o"
      }
    },
    {
      "cell_type": "markdown",
      "source": [
        "* When we need to have shared properites among data, e.g. when implementing a staff management systems, or a supermarket inventory system\n",
        "* When we need to associate methods / operations with a particular instance\n",
        "of data that the method would operate on. e.g. we want to implement the\n",
        "virtual representation of a smart light bulb. The light bulb object contains\n",
        "a method called is_turn_on().\n",
        "* When we build a shared library, class and methods offer a much cleaner\n",
        "module system and API description."
      ],
      "metadata": {
        "id": "lg6k5GLjDVux"
      }
    },
    {
      "cell_type": "code",
      "source": [
        ""
      ],
      "metadata": {
        "id": "HyFTGGxhDAnA"
      },
      "execution_count": null,
      "outputs": []
    }
  ]
}